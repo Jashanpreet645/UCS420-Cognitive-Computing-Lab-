{
  "nbformat": 4,
  "nbformat_minor": 0,
  "metadata": {
    "colab": {
      "provenance": [],
      "authorship_tag": "ABX9TyPl2CINIvDs3+sArxlF0Tw3",
      "include_colab_link": true
    },
    "kernelspec": {
      "name": "python3",
      "display_name": "Python 3"
    },
    "language_info": {
      "name": "python"
    }
  },
  "cells": [
    {
      "cell_type": "markdown",
      "metadata": {
        "id": "view-in-github",
        "colab_type": "text"
      },
      "source": [
        "<a href=\"https://colab.research.google.com/github/Jashanpreet645/UCS712-Cognitive-Computing-Lab-/blob/main/assignment_4.ipynb\" target=\"_parent\"><img src=\"https://colab.research.google.com/assets/colab-badge.svg\" alt=\"Open In Colab\"/></a>"
      ]
    },
    {
      "cell_type": "markdown",
      "source": [
        "# PRACTICE"
      ],
      "metadata": {
        "id": "WYjF1KACaqSQ"
      }
    },
    {
      "cell_type": "code",
      "execution_count": null,
      "metadata": {
        "id": "nFIeoTehDAKD",
        "colab": {
          "base_uri": "https://localhost:8080/"
        },
        "outputId": "b7dbcfce-9fb7-4648-d5c7-72adf9d7b595"
      },
      "outputs": [
        {
          "output_type": "stream",
          "name": "stdout",
          "text": [
            "<class 'numpy.ndarray'>\n",
            "int64\n",
            "9\n",
            "[[1 2 3]\n",
            " [4 5 6]\n",
            " [7 8 9]]\n",
            "2\n",
            "(3, 3)\n"
          ]
        }
      ],
      "source": [
        "import numpy as np\n",
        "arr_2d = np.array([[1,2,3],[4,5,6],[7,8,9]])\n",
        "print(type(arr_2d))\n",
        "print(arr_2d.dtype)\n",
        "print(arr_2d.size)\n",
        "print(arr_2d)\n",
        "print(arr_2d.ndim)\n",
        "print(arr_2d.shape)"
      ]
    },
    {
      "cell_type": "code",
      "source": [
        "a = np.array([1,2,3,4,5])\n",
        "a[3:5]=300\n",
        "print(a)"
      ],
      "metadata": {
        "colab": {
          "base_uri": "https://localhost:8080/"
        },
        "id": "-FHpBzcJVhtX",
        "outputId": "7efd1733-1807-4946-f176-46ae4330c4ca"
      },
      "execution_count": null,
      "outputs": [
        {
          "output_type": "stream",
          "name": "stdout",
          "text": [
            "[  1   2   3 300 300]\n"
          ]
        }
      ]
    },
    {
      "cell_type": "markdown",
      "source": [
        "#Question-1"
      ],
      "metadata": {
        "id": "axXdjaddbBcQ"
      }
    },
    {
      "cell_type": "code",
      "source": [
        "import numpy as np\n",
        "\n",
        "arr = np.array([1,2,3,4,5])\n",
        "for i in range(len(arr)):\n",
        "  arr[i] = arr[i]+2\n",
        "print(f\"add every elment by 2 {arr}\")\n",
        "\n",
        "arr = np.array([1,2,3,4,5])\n",
        "for i in range(len(arr)):\n",
        "  arr[i] = arr[i]*3\n",
        "print(f\"multiple every elment by 3 {arr}\")\n",
        "\n",
        "arr = np.array([1,2,3,4,5])\n",
        "for i in range(len(arr)):\n",
        "  arr[i] = arr[i]/2\n",
        "print(f\"divide every elment by 2 {arr}\")"
      ],
      "metadata": {
        "colab": {
          "base_uri": "https://localhost:8080/"
        },
        "id": "AGAO-ge1d9DR",
        "outputId": "380527a1-5cfd-4517-e89d-c474c4bdf0c3"
      },
      "execution_count": 7,
      "outputs": [
        {
          "output_type": "stream",
          "name": "stdout",
          "text": [
            "add every elment by 2 [3 4 5 6 7]\n",
            "multiple every elment by 3 [ 3  6  9 12 15]\n",
            "divide every elment by 2 [0 1 1 2 2]\n"
          ]
        }
      ]
    },
    {
      "cell_type": "markdown",
      "source": [
        "#Question-2(a)"
      ],
      "metadata": {
        "id": "JRhvYWZrbHqU"
      }
    },
    {
      "cell_type": "code",
      "source": [
        "arr = np.array([1,2,3,4,5])\n",
        "# reversed = np.sort(arr)[::-1]\n",
        "reversed = np.flip(arr)                #for any dimension\n",
        "print(reversed)"
      ],
      "metadata": {
        "colab": {
          "base_uri": "https://localhost:8080/"
        },
        "id": "QKqaIw3BfzNp",
        "outputId": "6e8bc749-659e-49d9-955b-6eb7d6e3559f"
      },
      "execution_count": 8,
      "outputs": [
        {
          "output_type": "stream",
          "name": "stdout",
          "text": [
            "[5 4 3 2 1]\n"
          ]
        }
      ]
    },
    {
      "cell_type": "markdown",
      "source": [
        "#Question-2(b)"
      ],
      "metadata": {
        "id": "yBO8sZyQbJcj"
      }
    },
    {
      "cell_type": "code",
      "source": [
        "import numpy as np\n",
        "# y = np.array([1, 2, 3, 4, 5, 1, 2, 1, 1, 1])\n",
        "x = np.array([1, 1, 1, 2, 3, 4, 2, 4, 3, 3])\n",
        "x_mode = np.unique(x)\n",
        "total = []\n",
        "count = 0\n",
        "for j in x_mode:\n",
        "    count = 0\n",
        "    for i in x:\n",
        "        if i == j:\n",
        "            count += 1\n",
        "    total.append(count)\n",
        "mode = x_mode[total.index(max(total))]\n",
        "# print(total)\n",
        "print(f\"mode of the array is = {mode}\")\n",
        "# print(x_mode)"
      ],
      "metadata": {
        "colab": {
          "base_uri": "https://localhost:8080/"
        },
        "id": "5881o4dThSRE",
        "outputId": "85a29fac-3a46-4f0b-fbfd-1fc1a7d45b3d"
      },
      "execution_count": 10,
      "outputs": [
        {
          "output_type": "stream",
          "name": "stdout",
          "text": [
            "mode of the array is = 1\n"
          ]
        }
      ]
    },
    {
      "cell_type": "markdown",
      "source": [
        "#Question-3"
      ],
      "metadata": {
        "id": "66dK9MEjbLu4"
      }
    },
    {
      "cell_type": "code",
      "source": [
        "import numpy as np\n",
        "arr=np.array([[10, 20, 30], [40, 50, 60], [70, 80, 90]])\n",
        "print(f\"Access 1st row, 2nd column = {arr[0][1]}\")\n",
        "print(f\"Access 3rd row, 1st column = {arr[2][0]}\")"
      ],
      "metadata": {
        "colab": {
          "base_uri": "https://localhost:8080/"
        },
        "id": "L-p40Z1FYo2t",
        "outputId": "dc5f76d1-a7bb-4cc9-9e41-694145f7766b"
      },
      "execution_count": 6,
      "outputs": [
        {
          "output_type": "stream",
          "name": "stdout",
          "text": [
            "Access 1st row, 2nd column = 20\n",
            "Access 3rd row, 1st column = 70\n"
          ]
        }
      ]
    },
    {
      "cell_type": "markdown",
      "source": [
        "#Question-4"
      ],
      "metadata": {
        "id": "ntON4WyobOlO"
      }
    },
    {
      "cell_type": "code",
      "source": [
        "import numpy as np\n",
        "arr = np.linspace(10,100,25)\n",
        "print(f\"the array is = {arr}\")\n",
        "print(f\"the dim of array is = {arr.ndim}\")\n",
        "print(f\"the shape of array is = {arr.shape}\")\n",
        "print(f\"the total elm in array is = {arr.size}\")\n",
        "print(f\"the data type of array is = {arr.dtype}\")\n",
        "print(f\"the bytes in array is = {arr.nbytes}\")\n",
        "reshaped_array = arr.reshape(25,1)\n",
        "print(f\"the transpose of array is = \\n{reshaped_array}\")\n",
        "# print(f\"the transpose of array is = {arr.transpose}\")\n",
        "\n",
        "transpose_array = arr.reshape(25,1).T\n",
        "print(f\"the array is = {transpose_array}\")\n",
        "\n",
        "# Note: The original 1-D array cannot be transposed directly using T attribute.\n",
        "# It needs to be reshaped to a 2-D array first."
      ],
      "metadata": {
        "colab": {
          "base_uri": "https://localhost:8080/"
        },
        "id": "hsYi1KibaoZZ",
        "outputId": "200fc877-a5ce-4843-942c-14d160981f2b"
      },
      "execution_count": 16,
      "outputs": [
        {
          "output_type": "stream",
          "name": "stdout",
          "text": [
            "the array is = [ 10.    13.75  17.5   21.25  25.    28.75  32.5   36.25  40.    43.75\n",
            "  47.5   51.25  55.    58.75  62.5   66.25  70.    73.75  77.5   81.25\n",
            "  85.    88.75  92.5   96.25 100.  ]\n",
            "the dim of array is = 1\n",
            "the shape of array is = (25,)\n",
            "the total elm in array is = 25\n",
            "the data type of array is = float64\n",
            "the bytes in array is = 200\n",
            "the transpose of array is = \n",
            "[[ 10.  ]\n",
            " [ 13.75]\n",
            " [ 17.5 ]\n",
            " [ 21.25]\n",
            " [ 25.  ]\n",
            " [ 28.75]\n",
            " [ 32.5 ]\n",
            " [ 36.25]\n",
            " [ 40.  ]\n",
            " [ 43.75]\n",
            " [ 47.5 ]\n",
            " [ 51.25]\n",
            " [ 55.  ]\n",
            " [ 58.75]\n",
            " [ 62.5 ]\n",
            " [ 66.25]\n",
            " [ 70.  ]\n",
            " [ 73.75]\n",
            " [ 77.5 ]\n",
            " [ 81.25]\n",
            " [ 85.  ]\n",
            " [ 88.75]\n",
            " [ 92.5 ]\n",
            " [ 96.25]\n",
            " [100.  ]]\n",
            "the array is = [[ 10.    13.75  17.5   21.25  25.    28.75  32.5   36.25  40.    43.75\n",
            "   47.5   51.25  55.    58.75  62.5   66.25  70.    73.75  77.5   81.25\n",
            "   85.    88.75  92.5   96.25 100.  ]]\n"
          ]
        }
      ]
    },
    {
      "cell_type": "markdown",
      "source": [
        "#Question-5"
      ],
      "metadata": {
        "id": "QnLwjqBrbQzU"
      }
    },
    {
      "cell_type": "code",
      "source": [
        "import numpy as np\n",
        "ucs420_arr = np.array([[10, 20, 30, 40],\n",
        "                              [50, 60, 70, 80],\n",
        "                              [90, 15, 20, 35]])\n",
        "\n",
        "print(\"Original Array :\\n\", ucs420_arr)\n",
        "\n",
        "mean_value = np.mean(ucs420_arr)\n",
        "print(f\"mean of the array = {mean_value}\")\n",
        "\n",
        "median_value = np.median(ucs420_arr)\n",
        "print(f\"median of the array = {median_value}\")\n",
        "\n",
        "max_value = np.max(ucs420_arr)\n",
        "print(f\"max of the array = {max_value}\")\n",
        "\n",
        "min_value = np.min(ucs420_arr)\n",
        "print(f\"min of the array = {min_value}\")\n",
        "\n",
        "unique_value = np.unique(ucs420_arr)\n",
        "print(f\"unique of the array = {unique_value}\")\n",
        "\n",
        "reshape_ucs420_arr = ucs420_arr.reshape(4,3)\n",
        "print(f\"reshaped array =\\n {reshape_ucs420_arr}\")\n",
        "\n",
        "resized_ucs420_arr = np.resize(ucs420_arr,(2,3))\n",
        "print(f\"mean of the array =\\n {resized_ucs420_arr}\")"
      ],
      "metadata": {
        "colab": {
          "base_uri": "https://localhost:8080/"
        },
        "id": "6vPeFDcObp-M",
        "outputId": "3267fc30-2264-49fc-a25c-56efa5c44967"
      },
      "execution_count": 27,
      "outputs": [
        {
          "output_type": "stream",
          "name": "stdout",
          "text": [
            "Original Array :\n",
            " [[10 20 30 40]\n",
            " [50 60 70 80]\n",
            " [90 15 20 35]]\n",
            "mean of the array = 43.333333333333336\n",
            "median of the array = 37.5\n",
            "max of the array = 90\n",
            "min of the array = 10\n",
            "unique of the array = [10 15 20 30 35 40 50 60 70 80 90]\n",
            "reshaped array =\n",
            " [[10 20 30]\n",
            " [40 50 60]\n",
            " [70 80 90]\n",
            " [15 20 35]]\n",
            "mean of the array =\n",
            " [[10 20 30]\n",
            " [40 50 60]]\n"
          ]
        }
      ]
    }
  ]
}