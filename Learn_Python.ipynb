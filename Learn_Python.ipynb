{
  "nbformat": 4,
  "nbformat_minor": 0,
  "metadata": {
    "colab": {
      "provenance": [],
      "include_colab_link": true
    },
    "kernelspec": {
      "name": "python3",
      "display_name": "Python 3"
    },
    "language_info": {
      "name": "python"
    }
  },
  "cells": [
    {
      "cell_type": "markdown",
      "metadata": {
        "id": "view-in-github",
        "colab_type": "text"
      },
      "source": [
        "<a href=\"https://colab.research.google.com/github/Jashanpreet645/UCS712-Cognitive-Computing-Lab-/blob/main/Learn_Python.ipynb\" target=\"_parent\"><img src=\"https://colab.research.google.com/assets/colab-badge.svg\" alt=\"Open In Colab\"/></a>"
      ]
    },
    {
      "cell_type": "markdown",
      "metadata": {
        "id": "NgayMd7cK3U6"
      },
      "source": [
        "---\n",
        "# **Practise Python**\n",
        "---\n",
        "\n",
        "### There are 16 programs to explain the various concepts in python programming such as:\n",
        "\n",
        "- Syntex,\n",
        "- Loop,\n",
        "- if-else,\n",
        "- Data Structures,\n",
        "- Strings,\n",
        "- File Handaling,\n",
        "- Exception Handaling,\n",
        "- Random Numbers,\n",
        "- Command Line Argunment\n",
        "- Use of Libraries\n",
        "\n",
        "---\n",
        "# **1 Hello World**\n",
        "---\n"
      ]
    },
    {
      "cell_type": "markdown",
      "metadata": {
        "id": "oBs7uRGQPn3J"
      },
      "source": [
        "**Assingment 1.1**: WAP to print your name three times"
      ]
    },
    {
      "cell_type": "code",
      "source": [
        "num = int(input(\"enter the no. = \"))\n",
        "for i in range(num):\n",
        "  print(\"hello world\")\n"
      ],
      "metadata": {
        "colab": {
          "base_uri": "https://localhost:8080/"
        },
        "id": "Ey1kWl8zZrcp",
        "outputId": "0dc2f492-6d27-4e15-abee-fc482f3fcbaa"
      },
      "execution_count": null,
      "outputs": [
        {
          "output_type": "stream",
          "name": "stdout",
          "text": [
            "enter the no. = 3\n",
            "hello world\n",
            "hello world\n",
            "hello world\n"
          ]
        }
      ]
    },
    {
      "cell_type": "markdown",
      "metadata": {
        "id": "EOp1wf9hlyC2"
      },
      "source": [
        "---\n",
        "# **2 Add numbers and Concatinate strings**\n"
      ]
    },
    {
      "cell_type": "markdown",
      "metadata": {
        "id": "hA7PLi-m4V8s"
      },
      "source": [
        "**Assingment 2.1**: WAP to add three numbers and print the result.\n"
      ]
    },
    {
      "cell_type": "code",
      "source": [
        "a = int(input(\"enter your first number = \"))\n",
        "b = int(input(\"enter your second number = \"))\n",
        "c = int(input(\"enter your third number = \"))\n",
        "sum = a+b+c\n",
        "print(\"sum of three numbers = \",sum)"
      ],
      "metadata": {
        "colab": {
          "base_uri": "https://localhost:8080/"
        },
        "id": "EcqUEu4iaqj4",
        "outputId": "285a3633-5e92-474a-a902-7c29ddc62959"
      },
      "execution_count": null,
      "outputs": [
        {
          "output_type": "stream",
          "name": "stdout",
          "text": [
            "enter your first number = 1\n",
            "enter your second number = 2\n",
            "enter your third number = 3\n",
            "sum of three numbers =  6\n"
          ]
        }
      ]
    },
    {
      "cell_type": "markdown",
      "source": [
        "**Assingment 2.2**: WAP to concatinate three strings and print the result."
      ],
      "metadata": {
        "id": "W7BL3iIHaurE"
      }
    },
    {
      "cell_type": "code",
      "source": [
        "a = int(input(\"enter any number = \"))\n",
        "b = input(\"enter your second string = \")\n",
        "c = input(\"enter your third string = \")\n",
        "print(\"concatenation of three strings = \",b+c+\"->\"+str(a))"
      ],
      "metadata": {
        "colab": {
          "base_uri": "https://localhost:8080/"
        },
        "id": "I6tjq2SKavbg",
        "outputId": "c6c0e220-e3d1-4949-ef69-cfb6a17629e4"
      },
      "execution_count": null,
      "outputs": [
        {
          "output_type": "stream",
          "name": "stdout",
          "text": [
            "enter any number = 312\n",
            "enter your second string = 31\n",
            "enter your third string = 12\n",
            "concatination of three strings =  3112->312\n"
          ]
        }
      ]
    },
    {
      "cell_type": "markdown",
      "metadata": {
        "id": "VCXIhMtP-puV"
      },
      "source": [
        "---\n",
        "# **4 Loop**\n",
        "\n",
        "\n",
        "---"
      ]
    },
    {
      "cell_type": "markdown",
      "metadata": {
        "id": "DnUEH0WQ-pua"
      },
      "source": [
        "**Assingment 4.1:** WAP to print the table of 7, 9."
      ]
    },
    {
      "cell_type": "code",
      "source": [
        "num = 9\n",
        "# num = 7\n",
        "for i in range(1,11):\n",
        "  print(num,\"x\",i,\"=\",i*num)"
      ],
      "metadata": {
        "colab": {
          "base_uri": "https://localhost:8080/"
        },
        "id": "4pTycQqcdsJa",
        "outputId": "eaaa2ba1-0623-4266-aa71-e4d031bef597"
      },
      "execution_count": null,
      "outputs": [
        {
          "output_type": "stream",
          "name": "stdout",
          "text": [
            "9 x 1 = 9\n",
            "9 x 2 = 18\n",
            "9 x 3 = 27\n",
            "9 x 4 = 36\n",
            "9 x 5 = 45\n",
            "9 x 6 = 54\n",
            "9 x 7 = 63\n",
            "9 x 8 = 72\n",
            "9 x 9 = 81\n",
            "9 x 10 = 90\n"
          ]
        }
      ]
    },
    {
      "cell_type": "markdown",
      "source": [
        "**Assingment 4.2:** WAP to print the table of n and n is given by user.\n"
      ],
      "metadata": {
        "id": "l2Oorw4zdtfD"
      }
    },
    {
      "cell_type": "code",
      "source": [
        "num = int(input(\"enter any number = \"))\n",
        "for i in range(1,11):\n",
        "  print(num,\"x\",i,\"=\",i*num)"
      ],
      "metadata": {
        "colab": {
          "base_uri": "https://localhost:8080/"
        },
        "id": "PSDXitond0b5",
        "outputId": "1e39ac0c-ccf5-43af-8fbc-679d76250ce1"
      },
      "execution_count": null,
      "outputs": [
        {
          "output_type": "stream",
          "name": "stdout",
          "text": [
            "enter any number = 11\n",
            "11 x 1 = 11\n",
            "11 x 2 = 22\n",
            "11 x 3 = 33\n",
            "11 x 4 = 44\n",
            "11 x 5 = 55\n",
            "11 x 6 = 66\n",
            "11 x 7 = 77\n",
            "11 x 8 = 88\n",
            "11 x 9 = 99\n",
            "11 x 10 = 110\n"
          ]
        }
      ]
    },
    {
      "cell_type": "markdown",
      "source": [
        "**Assingment 4.3:** WAP to add all the numbers from 1 to n and n is given by user."
      ],
      "metadata": {
        "id": "HMp66oZjd64X"
      }
    },
    {
      "cell_type": "code",
      "source": [
        "num = int(input(\"enter any number = \"))\n",
        "sum =0\n",
        "for i in range(1,num+1):\n",
        "  # print(i)\n",
        "  sum = sum + i\n",
        "print(\"sum is = \", sum)"
      ],
      "metadata": {
        "colab": {
          "base_uri": "https://localhost:8080/"
        },
        "id": "6hfG3mm2d7tH",
        "outputId": "43c45195-1878-491a-b3e2-05f1a83be47e"
      },
      "execution_count": null,
      "outputs": [
        {
          "output_type": "stream",
          "name": "stdout",
          "text": [
            "enter any number = 5\n",
            "sum is =  15\n"
          ]
        }
      ]
    },
    {
      "cell_type": "markdown",
      "metadata": {
        "id": "6eraxEhZCJRU"
      },
      "source": [
        "---\n",
        "# **5 If-Else - Conditional Checking**\n",
        "---"
      ]
    },
    {
      "cell_type": "markdown",
      "metadata": {
        "id": "bPPQtf1ACJRg"
      },
      "source": [
        "**Assingment 5.1:** WAP to find max amoung three numbers and input from user. [Try max() function]\n",
        "\n",
        "\n",
        "\n",
        "\n"
      ]
    },
    {
      "cell_type": "code",
      "source": [
        "a = int(input(\"enter your first number = \"))\n",
        "b = int(input(\"enter your second number = \"))\n",
        "c = int(input(\"enter your third number = \"))\n",
        "if(max(a,b,c)==a):\n",
        "  print(\"max number is \",a)\n",
        "elif(max(a,b,c)==b):\n",
        "  print(\"max number is \",b)\n",
        "elif(max(a,b,c)==c):\n",
        "  print(\"max number is \",c)\n",
        "else:\n",
        "  print(\"number are equal or complex\")"
      ],
      "metadata": {
        "colab": {
          "base_uri": "https://localhost:8080/"
        },
        "id": "D056yG_R7joZ",
        "outputId": "1f57c709-8687-400e-df2f-5a597e34f1f7"
      },
      "execution_count": null,
      "outputs": [
        {
          "output_type": "stream",
          "name": "stdout",
          "text": [
            "enter your first number = 45\n",
            "enter your second number = 54\n",
            "enter your third number = 54\n",
            "max number is  54\n"
          ]
        }
      ]
    },
    {
      "cell_type": "markdown",
      "source": [
        "\n",
        "**Assingment 5.2:** WAP to add all numbers divisible by 7 and 9 from 1 to n and n is given by the user."
      ],
      "metadata": {
        "id": "4GMQbbmu7XwQ"
      }
    },
    {
      "cell_type": "code",
      "source": [
        "num = int(input(\"enter any no. = \"))\n",
        "sum = 0\n",
        "i=0\n",
        "while(i<=num):\n",
        "  if(i%7==0 and i%9==0):\n",
        "    sum = sum +i\n",
        "    i=i+1\n",
        "  else:\n",
        "    i=i+1\n",
        "print(\"sum is = \",sum)"
      ],
      "metadata": {
        "colab": {
          "base_uri": "https://localhost:8080/"
        },
        "id": "Tj7TLaF07XQk",
        "outputId": "b86a5a26-60ee-4a38-f5d7-207ae073fd78"
      },
      "execution_count": null,
      "outputs": [
        {
          "output_type": "stream",
          "name": "stdout",
          "text": [
            "enter any no. = 200\n",
            "sum is =  378\n"
          ]
        }
      ]
    },
    {
      "cell_type": "markdown",
      "source": [
        "**Assingment 5.3:** WAP to add all prime numbers from 1 to n and n is given by the user."
      ],
      "metadata": {
        "id": "b70Fn-C87Wd9"
      }
    },
    {
      "cell_type": "code",
      "source": [
        "num =  int(input(\"enter any no. = \"))\n",
        "sum = 0\n",
        "factor = 0\n",
        "for i in range(2,num+1):\n",
        "  for j in range(2,i//2 +1):\n",
        "    if(i%j==0):\n",
        "      factor = 1\n",
        "  if(factor == 0 ):\n",
        "    sum = sum + i\n",
        "  else:\n",
        "    factor = 0\n",
        "print(sum)"
      ],
      "metadata": {
        "colab": {
          "base_uri": "https://localhost:8080/"
        },
        "id": "ER3Wmhgo7V55",
        "outputId": "d3f163e0-2a5c-4364-aa82-7c6f5d95121c"
      },
      "execution_count": null,
      "outputs": [
        {
          "output_type": "stream",
          "name": "stdout",
          "text": [
            "enter any no. = 6\n",
            "10\n"
          ]
        }
      ]
    },
    {
      "cell_type": "markdown",
      "metadata": {
        "id": "_dC1CuVnDipZ"
      },
      "source": [
        "---\n",
        "# **6 Functions**\n",
        "---"
      ]
    },
    {
      "cell_type": "markdown",
      "metadata": {
        "id": "bWcn3nSlDipg"
      },
      "source": [
        "\n",
        "**Assingment 6.1:** WAP using function that add all odd numbers from 1 to n, n is given by the user.\n",
        "\n"
      ]
    },
    {
      "cell_type": "code",
      "source": [
        "\n",
        "def addnum(num):\n",
        "  sum = 0\n",
        "  for i in range(1,num+1,2):\n",
        "    sum = sum +i\n",
        "  return sum\n",
        "\n",
        "num = int(input(\"enter any number = \"))\n",
        "oddno = addnum(num)\n",
        "print(\"sum is = \",oddno)"
      ],
      "metadata": {
        "colab": {
          "base_uri": "https://localhost:8080/"
        },
        "id": "8uEP4HxfHXcS",
        "outputId": "25318415-cae0-48df-9029-53ea61d51f3f"
      },
      "execution_count": null,
      "outputs": [
        {
          "output_type": "stream",
          "name": "stdout",
          "text": [
            "enter any number = 6\n",
            "sum is =  9\n"
          ]
        }
      ]
    },
    {
      "cell_type": "markdown",
      "source": [
        "**Assingment 6.2:** WAP using function that add all prime numbers from 1 to n, n given by the user."
      ],
      "metadata": {
        "id": "Kj6DcxkwHTE5"
      }
    },
    {
      "cell_type": "code",
      "source": [
        "def primenum(num):\n",
        "  sum = 0\n",
        "  factor = 0\n",
        "  for i in range(2,num+1):\n",
        "    for j in range(2,i//2 +1):\n",
        "      if(i%j==0):\n",
        "        factor = 1\n",
        "    if(factor == 0 ):\n",
        "      sum = sum + i\n",
        "    else:\n",
        "      factor = 0\n",
        "  print(sum)\n",
        "\n",
        "num = int(input(\"enter any no. = \"))\n",
        "primenum(num)"
      ],
      "metadata": {
        "colab": {
          "base_uri": "https://localhost:8080/"
        },
        "id": "Y-ZlBdGwHSsR",
        "outputId": "991bfa1b-f1a0-4b3d-8474-e9348cef2527"
      },
      "execution_count": null,
      "outputs": [
        {
          "output_type": "stream",
          "name": "stdout",
          "text": [
            "enter any no. = 5\n",
            "10\n"
          ]
        }
      ]
    }
  ]
}